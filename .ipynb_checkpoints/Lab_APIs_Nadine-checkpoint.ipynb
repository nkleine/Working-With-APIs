{
 "cells": [
  {
   "cell_type": "markdown",
   "id": "104ecea2",
   "metadata": {},
   "source": [
    "# LAB API\n",
    "\n",
    "### In this lab you will choose 3 APIs from the list in the GitHub Repo.\n",
    "### Create a dataframe of the available data and think of a project that you could do with that data."
   ]
  },
  {
   "cell_type": "markdown",
   "id": "f8c3c2cb",
   "metadata": {},
   "source": [
    "## API Nr. 1: City Bikes (https://api.citybik.es/v2/)"
   ]
  },
  {
   "cell_type": "code",
   "execution_count": 1,
   "id": "beca0764",
   "metadata": {},
   "outputs": [],
   "source": [
    "# Import requests library\n",
    "import requests\n",
    "import json \n",
    "import pandas as pd"
   ]
  },
  {
   "cell_type": "code",
   "execution_count": 2,
   "id": "7383ae41",
   "metadata": {},
   "outputs": [],
   "source": [
    "# Request:"
   ]
  },
  {
   "cell_type": "code",
   "execution_count": 3,
   "id": "2ce74116",
   "metadata": {},
   "outputs": [
    {
     "name": "stdout",
     "output_type": "stream",
     "text": [
      "bikes: 200\n"
     ]
    }
   ],
   "source": [
    "bikes = requests.get('http://api.citybik.es/v2/networks')\n",
    "\n",
    "results1 = bikes.json()\n",
    "#results1\n",
    "print(\"bikes:\", bikes.status_code)"
   ]
  },
  {
   "cell_type": "code",
   "execution_count": 4,
   "id": "72ff1c9e",
   "metadata": {},
   "outputs": [],
   "source": [
    "# Json in Dataframe:"
   ]
  },
  {
   "cell_type": "code",
   "execution_count": 5,
   "id": "34cd593e",
   "metadata": {},
   "outputs": [
    {
     "data": {
      "text/html": [
       "<div>\n",
       "<style scoped>\n",
       "    .dataframe tbody tr th:only-of-type {\n",
       "        vertical-align: middle;\n",
       "    }\n",
       "\n",
       "    .dataframe tbody tr th {\n",
       "        vertical-align: top;\n",
       "    }\n",
       "\n",
       "    .dataframe thead th {\n",
       "        text-align: right;\n",
       "    }\n",
       "</style>\n",
       "<table border=\"1\" class=\"dataframe\">\n",
       "  <thead>\n",
       "    <tr style=\"text-align: right;\">\n",
       "      <th></th>\n",
       "      <th>networks</th>\n",
       "    </tr>\n",
       "  </thead>\n",
       "  <tbody>\n",
       "    <tr>\n",
       "      <th>0</th>\n",
       "      <td>{'company': ['ЗАО «СитиБайк»'], 'href': '/v2/n...</td>\n",
       "    </tr>\n",
       "    <tr>\n",
       "      <th>1</th>\n",
       "      <td>{'company': ['Gobike A/S'], 'href': '/v2/netwo...</td>\n",
       "    </tr>\n",
       "    <tr>\n",
       "      <th>2</th>\n",
       "      <td>{'company': ['Gobike A/S'], 'href': '/v2/netwo...</td>\n",
       "    </tr>\n",
       "    <tr>\n",
       "      <th>3</th>\n",
       "      <td>{'company': ['Urban Infrastructure Partner'], ...</td>\n",
       "    </tr>\n",
       "    <tr>\n",
       "      <th>4</th>\n",
       "      <td>{'company': ['Gobike A/S'], 'href': '/v2/netwo...</td>\n",
       "    </tr>\n",
       "    <tr>\n",
       "      <th>5</th>\n",
       "      <td>{'company': ['Domoblue'], 'href': '/v2/network...</td>\n",
       "    </tr>\n",
       "    <tr>\n",
       "      <th>6</th>\n",
       "      <td>{'company': ['Domoblue'], 'href': '/v2/network...</td>\n",
       "    </tr>\n",
       "    <tr>\n",
       "      <th>7</th>\n",
       "      <td>{'company': ['Domoblue'], 'href': '/v2/network...</td>\n",
       "    </tr>\n",
       "    <tr>\n",
       "      <th>8</th>\n",
       "      <td>{'company': ['Domoblue'], 'href': '/v2/network...</td>\n",
       "    </tr>\n",
       "    <tr>\n",
       "      <th>9</th>\n",
       "      <td>{'company': ['Domoblue'], 'href': '/v2/network...</td>\n",
       "    </tr>\n",
       "  </tbody>\n",
       "</table>\n",
       "</div>"
      ],
      "text/plain": [
       "                                            networks\n",
       "0  {'company': ['ЗАО «СитиБайк»'], 'href': '/v2/n...\n",
       "1  {'company': ['Gobike A/S'], 'href': '/v2/netwo...\n",
       "2  {'company': ['Gobike A/S'], 'href': '/v2/netwo...\n",
       "3  {'company': ['Urban Infrastructure Partner'], ...\n",
       "4  {'company': ['Gobike A/S'], 'href': '/v2/netwo...\n",
       "5  {'company': ['Domoblue'], 'href': '/v2/network...\n",
       "6  {'company': ['Domoblue'], 'href': '/v2/network...\n",
       "7  {'company': ['Domoblue'], 'href': '/v2/network...\n",
       "8  {'company': ['Domoblue'], 'href': '/v2/network...\n",
       "9  {'company': ['Domoblue'], 'href': '/v2/network..."
      ]
     },
     "execution_count": 5,
     "metadata": {},
     "output_type": "execute_result"
    }
   ],
   "source": [
    "pd.set_option(\"display.max_rows\", 0)\n",
    "\n",
    "data = pd.DataFrame(results1)\n",
    "data.head(10)"
   ]
  },
  {
   "cell_type": "code",
   "execution_count": 6,
   "id": "453c3499",
   "metadata": {},
   "outputs": [],
   "source": [
    "# Data has to get flattened:"
   ]
  },
  {
   "cell_type": "code",
   "execution_count": 30,
   "id": "3553ce1d",
   "metadata": {},
   "outputs": [
    {
     "data": {
      "text/html": [
       "<div>\n",
       "<style scoped>\n",
       "    .dataframe tbody tr th:only-of-type {\n",
       "        vertical-align: middle;\n",
       "    }\n",
       "\n",
       "    .dataframe tbody tr th {\n",
       "        vertical-align: top;\n",
       "    }\n",
       "\n",
       "    .dataframe thead th {\n",
       "        text-align: right;\n",
       "    }\n",
       "</style>\n",
       "<table border=\"1\" class=\"dataframe\">\n",
       "  <thead>\n",
       "    <tr style=\"text-align: right;\">\n",
       "      <th></th>\n",
       "      <th>networks</th>\n",
       "    </tr>\n",
       "  </thead>\n",
       "  <tbody>\n",
       "    <tr>\n",
       "      <th>0</th>\n",
       "      <td>[{'company': ['ЗАО «СитиБайк»'], 'href': '/v2/...</td>\n",
       "    </tr>\n",
       "  </tbody>\n",
       "</table>\n",
       "</div>"
      ],
      "text/plain": [
       "                                            networks\n",
       "0  [{'company': ['ЗАО «СитиБайк»'], 'href': '/v2/..."
      ]
     },
     "execution_count": 30,
     "metadata": {},
     "output_type": "execute_result"
    }
   ],
   "source": [
    "from pandas.io.json import json_normalize\n",
    "\n",
    "bike_new = results1\n",
    "flattened_data_bike = pd.json_normalize(bike_new)\n",
    "\n",
    "flattened_data_bike\n",
    "\n",
    "flattened_data_bike.head()"
   ]
  },
  {
   "cell_type": "code",
   "execution_count": 8,
   "id": "35572ed6",
   "metadata": {},
   "outputs": [],
   "source": [
    "# the flattening does not work, so I try to get one level deeper into the column 'networks':"
   ]
  },
  {
   "cell_type": "code",
   "execution_count": 29,
   "id": "13987b12",
   "metadata": {
    "scrolled": true
   },
   "outputs": [
    {
     "data": {
      "text/html": [
       "<div>\n",
       "<style scoped>\n",
       "    .dataframe tbody tr th:only-of-type {\n",
       "        vertical-align: middle;\n",
       "    }\n",
       "\n",
       "    .dataframe tbody tr th {\n",
       "        vertical-align: top;\n",
       "    }\n",
       "\n",
       "    .dataframe thead th {\n",
       "        text-align: right;\n",
       "    }\n",
       "</style>\n",
       "<table border=\"1\" class=\"dataframe\">\n",
       "  <thead>\n",
       "    <tr style=\"text-align: right;\">\n",
       "      <th></th>\n",
       "      <th>company</th>\n",
       "      <th>href</th>\n",
       "      <th>id</th>\n",
       "      <th>name</th>\n",
       "      <th>location.city</th>\n",
       "      <th>location.country</th>\n",
       "      <th>location.latitude</th>\n",
       "      <th>location.longitude</th>\n",
       "      <th>source</th>\n",
       "      <th>gbfs_href</th>\n",
       "      <th>license.name</th>\n",
       "      <th>license.url</th>\n",
       "      <th>ebikes</th>\n",
       "    </tr>\n",
       "  </thead>\n",
       "  <tbody>\n",
       "    <tr>\n",
       "      <th>0</th>\n",
       "      <td>[ЗАО «СитиБайк»]</td>\n",
       "      <td>/v2/networks/velobike-moscow</td>\n",
       "      <td>velobike-moscow</td>\n",
       "      <td>Velobike</td>\n",
       "      <td>Moscow</td>\n",
       "      <td>RU</td>\n",
       "      <td>55.750000</td>\n",
       "      <td>37.616667</td>\n",
       "      <td>NaN</td>\n",
       "      <td>NaN</td>\n",
       "      <td>NaN</td>\n",
       "      <td>NaN</td>\n",
       "      <td>NaN</td>\n",
       "    </tr>\n",
       "    <tr>\n",
       "      <th>1</th>\n",
       "      <td>[Gobike A/S]</td>\n",
       "      <td>/v2/networks/bycyklen</td>\n",
       "      <td>bycyklen</td>\n",
       "      <td>Bycyklen</td>\n",
       "      <td>Copenhagen</td>\n",
       "      <td>DK</td>\n",
       "      <td>55.673582</td>\n",
       "      <td>12.564984</td>\n",
       "      <td>NaN</td>\n",
       "      <td>NaN</td>\n",
       "      <td>NaN</td>\n",
       "      <td>NaN</td>\n",
       "      <td>NaN</td>\n",
       "    </tr>\n",
       "    <tr>\n",
       "      <th>2</th>\n",
       "      <td>[Gobike A/S]</td>\n",
       "      <td>/v2/networks/nu-connect</td>\n",
       "      <td>nu-connect</td>\n",
       "      <td>Nu-Connect</td>\n",
       "      <td>Utrecht</td>\n",
       "      <td>NL</td>\n",
       "      <td>52.117000</td>\n",
       "      <td>5.067000</td>\n",
       "      <td>NaN</td>\n",
       "      <td>NaN</td>\n",
       "      <td>NaN</td>\n",
       "      <td>NaN</td>\n",
       "      <td>NaN</td>\n",
       "    </tr>\n",
       "    <tr>\n",
       "      <th>3</th>\n",
       "      <td>[Urban Infrastructure Partner]</td>\n",
       "      <td>/v2/networks/baerum-bysykkel</td>\n",
       "      <td>baerum-bysykkel</td>\n",
       "      <td>Bysykkel</td>\n",
       "      <td>Bærum</td>\n",
       "      <td>NO</td>\n",
       "      <td>59.894550</td>\n",
       "      <td>10.546343</td>\n",
       "      <td>NaN</td>\n",
       "      <td>NaN</td>\n",
       "      <td>NaN</td>\n",
       "      <td>NaN</td>\n",
       "      <td>NaN</td>\n",
       "    </tr>\n",
       "    <tr>\n",
       "      <th>4</th>\n",
       "      <td>[Gobike A/S]</td>\n",
       "      <td>/v2/networks/bysykkelen</td>\n",
       "      <td>bysykkelen</td>\n",
       "      <td>Bysykkelen</td>\n",
       "      <td>Stavanger</td>\n",
       "      <td>NO</td>\n",
       "      <td>58.969975</td>\n",
       "      <td>5.733107</td>\n",
       "      <td>NaN</td>\n",
       "      <td>NaN</td>\n",
       "      <td>NaN</td>\n",
       "      <td>NaN</td>\n",
       "      <td>NaN</td>\n",
       "    </tr>\n",
       "  </tbody>\n",
       "</table>\n",
       "</div>"
      ],
      "text/plain": [
       "                          company                          href  \\\n",
       "0                [ЗАО «СитиБайк»]  /v2/networks/velobike-moscow   \n",
       "1                    [Gobike A/S]         /v2/networks/bycyklen   \n",
       "2                    [Gobike A/S]       /v2/networks/nu-connect   \n",
       "3  [Urban Infrastructure Partner]  /v2/networks/baerum-bysykkel   \n",
       "4                    [Gobike A/S]       /v2/networks/bysykkelen   \n",
       "\n",
       "                id        name location.city location.country  \\\n",
       "0  velobike-moscow    Velobike        Moscow               RU   \n",
       "1         bycyklen    Bycyklen    Copenhagen               DK   \n",
       "2       nu-connect  Nu-Connect       Utrecht               NL   \n",
       "3  baerum-bysykkel    Bysykkel         Bærum               NO   \n",
       "4       bysykkelen  Bysykkelen     Stavanger               NO   \n",
       "\n",
       "   location.latitude  location.longitude source gbfs_href license.name  \\\n",
       "0          55.750000           37.616667    NaN       NaN          NaN   \n",
       "1          55.673582           12.564984    NaN       NaN          NaN   \n",
       "2          52.117000            5.067000    NaN       NaN          NaN   \n",
       "3          59.894550           10.546343    NaN       NaN          NaN   \n",
       "4          58.969975            5.733107    NaN       NaN          NaN   \n",
       "\n",
       "  license.url ebikes  \n",
       "0         NaN    NaN  \n",
       "1         NaN    NaN  \n",
       "2         NaN    NaN  \n",
       "3         NaN    NaN  \n",
       "4         NaN    NaN  "
      ]
     },
     "execution_count": 29,
     "metadata": {},
     "output_type": "execute_result"
    }
   ],
   "source": [
    "from pandas.io.json import json_normalize\n",
    "\n",
    "bike_new = results1['networks']\n",
    "flattened_data_bike = pd.json_normalize(bike_new)\n",
    "\n",
    "flattened_data_bike\n",
    "\n",
    "flattened_data_bike.head()"
   ]
  },
  {
   "cell_type": "code",
   "execution_count": null,
   "id": "4b4d37ba",
   "metadata": {},
   "outputs": [],
   "source": []
  },
  {
   "cell_type": "markdown",
   "id": "53da727f",
   "metadata": {},
   "source": [
    "# API Nr. 2: Trivia (https://opentdb.com/api_config.php)"
   ]
  },
  {
   "cell_type": "code",
   "execution_count": 10,
   "id": "b47aa4ea",
   "metadata": {},
   "outputs": [],
   "source": [
    "# Request:"
   ]
  },
  {
   "cell_type": "code",
   "execution_count": 11,
   "id": "f3cb5f69",
   "metadata": {},
   "outputs": [
    {
     "name": "stdout",
     "output_type": "stream",
     "text": [
      "trivia: 200\n"
     ]
    }
   ],
   "source": [
    "trivia = requests.get(\"https://opentdb.com/api.php?amount=50\")\n",
    "print(\"trivia:\", trivia.status_code)\n",
    "\n",
    "results2 = trivia.json()\n",
    "#results2"
   ]
  },
  {
   "cell_type": "code",
   "execution_count": 12,
   "id": "1f8672ef",
   "metadata": {},
   "outputs": [],
   "source": [
    "# Json in Dataframe:"
   ]
  },
  {
   "cell_type": "code",
   "execution_count": 13,
   "id": "9f47206b",
   "metadata": {},
   "outputs": [
    {
     "data": {
      "text/html": [
       "<div>\n",
       "<style scoped>\n",
       "    .dataframe tbody tr th:only-of-type {\n",
       "        vertical-align: middle;\n",
       "    }\n",
       "\n",
       "    .dataframe tbody tr th {\n",
       "        vertical-align: top;\n",
       "    }\n",
       "\n",
       "    .dataframe thead th {\n",
       "        text-align: right;\n",
       "    }\n",
       "</style>\n",
       "<table border=\"1\" class=\"dataframe\">\n",
       "  <thead>\n",
       "    <tr style=\"text-align: right;\">\n",
       "      <th></th>\n",
       "      <th>response_code</th>\n",
       "      <th>results</th>\n",
       "    </tr>\n",
       "  </thead>\n",
       "  <tbody>\n",
       "    <tr>\n",
       "      <th>0</th>\n",
       "      <td>0</td>\n",
       "      <td>{'category': 'Mythology', 'type': 'multiple', ...</td>\n",
       "    </tr>\n",
       "    <tr>\n",
       "      <th>1</th>\n",
       "      <td>0</td>\n",
       "      <td>{'category': 'Sports', 'type': 'multiple', 'di...</td>\n",
       "    </tr>\n",
       "    <tr>\n",
       "      <th>2</th>\n",
       "      <td>0</td>\n",
       "      <td>{'category': 'Entertainment: Video Games', 'ty...</td>\n",
       "    </tr>\n",
       "    <tr>\n",
       "      <th>3</th>\n",
       "      <td>0</td>\n",
       "      <td>{'category': 'Science: Computers', 'type': 'bo...</td>\n",
       "    </tr>\n",
       "    <tr>\n",
       "      <th>4</th>\n",
       "      <td>0</td>\n",
       "      <td>{'category': 'Animals', 'type': 'boolean', 'di...</td>\n",
       "    </tr>\n",
       "    <tr>\n",
       "      <th>5</th>\n",
       "      <td>0</td>\n",
       "      <td>{'category': 'Entertainment: Music', 'type': '...</td>\n",
       "    </tr>\n",
       "    <tr>\n",
       "      <th>6</th>\n",
       "      <td>0</td>\n",
       "      <td>{'category': 'History', 'type': 'boolean', 'di...</td>\n",
       "    </tr>\n",
       "    <tr>\n",
       "      <th>7</th>\n",
       "      <td>0</td>\n",
       "      <td>{'category': 'Politics', 'type': 'multiple', '...</td>\n",
       "    </tr>\n",
       "    <tr>\n",
       "      <th>8</th>\n",
       "      <td>0</td>\n",
       "      <td>{'category': 'Entertainment: Video Games', 'ty...</td>\n",
       "    </tr>\n",
       "    <tr>\n",
       "      <th>9</th>\n",
       "      <td>0</td>\n",
       "      <td>{'category': 'Entertainment: Music', 'type': '...</td>\n",
       "    </tr>\n",
       "  </tbody>\n",
       "</table>\n",
       "</div>"
      ],
      "text/plain": [
       "   response_code                                            results\n",
       "0              0  {'category': 'Mythology', 'type': 'multiple', ...\n",
       "1              0  {'category': 'Sports', 'type': 'multiple', 'di...\n",
       "2              0  {'category': 'Entertainment: Video Games', 'ty...\n",
       "3              0  {'category': 'Science: Computers', 'type': 'bo...\n",
       "4              0  {'category': 'Animals', 'type': 'boolean', 'di...\n",
       "5              0  {'category': 'Entertainment: Music', 'type': '...\n",
       "6              0  {'category': 'History', 'type': 'boolean', 'di...\n",
       "7              0  {'category': 'Politics', 'type': 'multiple', '...\n",
       "8              0  {'category': 'Entertainment: Video Games', 'ty...\n",
       "9              0  {'category': 'Entertainment: Music', 'type': '..."
      ]
     },
     "execution_count": 13,
     "metadata": {},
     "output_type": "execute_result"
    }
   ],
   "source": [
    "pd.set_option(\"display.max_rows\", 0)\n",
    "\n",
    "data2 = pd.DataFrame(results2)\n",
    "data2.head(10)"
   ]
  },
  {
   "cell_type": "code",
   "execution_count": 14,
   "id": "4f45da8d",
   "metadata": {},
   "outputs": [],
   "source": [
    "# Data has to get flattened:"
   ]
  },
  {
   "cell_type": "code",
   "execution_count": 28,
   "id": "079aa9f3",
   "metadata": {},
   "outputs": [
    {
     "data": {
      "text/html": [
       "<div>\n",
       "<style scoped>\n",
       "    .dataframe tbody tr th:only-of-type {\n",
       "        vertical-align: middle;\n",
       "    }\n",
       "\n",
       "    .dataframe tbody tr th {\n",
       "        vertical-align: top;\n",
       "    }\n",
       "\n",
       "    .dataframe thead th {\n",
       "        text-align: right;\n",
       "    }\n",
       "</style>\n",
       "<table border=\"1\" class=\"dataframe\">\n",
       "  <thead>\n",
       "    <tr style=\"text-align: right;\">\n",
       "      <th></th>\n",
       "      <th>response_code</th>\n",
       "      <th>results</th>\n",
       "    </tr>\n",
       "  </thead>\n",
       "  <tbody>\n",
       "    <tr>\n",
       "      <th>0</th>\n",
       "      <td>0</td>\n",
       "      <td>[{'category': 'Mythology', 'type': 'multiple',...</td>\n",
       "    </tr>\n",
       "  </tbody>\n",
       "</table>\n",
       "</div>"
      ],
      "text/plain": [
       "   response_code                                            results\n",
       "0              0  [{'category': 'Mythology', 'type': 'multiple',..."
      ]
     },
     "execution_count": 28,
     "metadata": {},
     "output_type": "execute_result"
    }
   ],
   "source": [
    "trivia = results2\n",
    "flattened_data_trivia = pd.json_normalize(trivia)\n",
    "\n",
    "flattened_data_trivia\n",
    "\n",
    "#flattened_data_trivia.head()"
   ]
  },
  {
   "cell_type": "code",
   "execution_count": 16,
   "id": "313113fa",
   "metadata": {},
   "outputs": [],
   "source": [
    "# the flattening does not work, so I try to get one level deeper into the column 'results':"
   ]
  },
  {
   "cell_type": "code",
   "execution_count": 27,
   "id": "98c6da62",
   "metadata": {},
   "outputs": [
    {
     "data": {
      "text/html": [
       "<div>\n",
       "<style scoped>\n",
       "    .dataframe tbody tr th:only-of-type {\n",
       "        vertical-align: middle;\n",
       "    }\n",
       "\n",
       "    .dataframe tbody tr th {\n",
       "        vertical-align: top;\n",
       "    }\n",
       "\n",
       "    .dataframe thead th {\n",
       "        text-align: right;\n",
       "    }\n",
       "</style>\n",
       "<table border=\"1\" class=\"dataframe\">\n",
       "  <thead>\n",
       "    <tr style=\"text-align: right;\">\n",
       "      <th></th>\n",
       "      <th>category</th>\n",
       "      <th>type</th>\n",
       "      <th>difficulty</th>\n",
       "      <th>question</th>\n",
       "      <th>correct_answer</th>\n",
       "      <th>incorrect_answers</th>\n",
       "    </tr>\n",
       "  </thead>\n",
       "  <tbody>\n",
       "    <tr>\n",
       "      <th>0</th>\n",
       "      <td>Mythology</td>\n",
       "      <td>multiple</td>\n",
       "      <td>hard</td>\n",
       "      <td>According to Algonquian folklore, how does one...</td>\n",
       "      <td>Participating in cannibalism.</td>\n",
       "      <td>[Excessive mutilation of animal corpses., Perf...</td>\n",
       "    </tr>\n",
       "    <tr>\n",
       "      <th>1</th>\n",
       "      <td>Sports</td>\n",
       "      <td>multiple</td>\n",
       "      <td>medium</td>\n",
       "      <td>At which bridge does the annual Oxford and Cam...</td>\n",
       "      <td>Putney</td>\n",
       "      <td>[Hammersmith, Vauxhall , Battersea]</td>\n",
       "    </tr>\n",
       "    <tr>\n",
       "      <th>2</th>\n",
       "      <td>Entertainment: Video Games</td>\n",
       "      <td>multiple</td>\n",
       "      <td>medium</td>\n",
       "      <td>How many Chaos Emeralds can you collect in the...</td>\n",
       "      <td>Six</td>\n",
       "      <td>[Seven, Five, Eight]</td>\n",
       "    </tr>\n",
       "    <tr>\n",
       "      <th>3</th>\n",
       "      <td>Science: Computers</td>\n",
       "      <td>boolean</td>\n",
       "      <td>medium</td>\n",
       "      <td>The first computer bug was formed by faulty wi...</td>\n",
       "      <td>False</td>\n",
       "      <td>[True]</td>\n",
       "    </tr>\n",
       "    <tr>\n",
       "      <th>4</th>\n",
       "      <td>Animals</td>\n",
       "      <td>boolean</td>\n",
       "      <td>medium</td>\n",
       "      <td>The Ceratosaurus, a dinosaur known for having ...</td>\n",
       "      <td>False</td>\n",
       "      <td>[True]</td>\n",
       "    </tr>\n",
       "  </tbody>\n",
       "</table>\n",
       "</div>"
      ],
      "text/plain": [
       "                     category      type difficulty  \\\n",
       "0                   Mythology  multiple       hard   \n",
       "1                      Sports  multiple     medium   \n",
       "2  Entertainment: Video Games  multiple     medium   \n",
       "3          Science: Computers   boolean     medium   \n",
       "4                     Animals   boolean     medium   \n",
       "\n",
       "                                            question  \\\n",
       "0  According to Algonquian folklore, how does one...   \n",
       "1  At which bridge does the annual Oxford and Cam...   \n",
       "2  How many Chaos Emeralds can you collect in the...   \n",
       "3  The first computer bug was formed by faulty wi...   \n",
       "4  The Ceratosaurus, a dinosaur known for having ...   \n",
       "\n",
       "                  correct_answer  \\\n",
       "0  Participating in cannibalism.   \n",
       "1                         Putney   \n",
       "2                            Six   \n",
       "3                          False   \n",
       "4                          False   \n",
       "\n",
       "                                   incorrect_answers  \n",
       "0  [Excessive mutilation of animal corpses., Perf...  \n",
       "1                [Hammersmith, Vauxhall , Battersea]  \n",
       "2                               [Seven, Five, Eight]  \n",
       "3                                             [True]  \n",
       "4                                             [True]  "
      ]
     },
     "execution_count": 27,
     "metadata": {},
     "output_type": "execute_result"
    }
   ],
   "source": [
    "trivia = results2['results']\n",
    "flattened_data_trivia = pd.json_normalize(trivia)\n",
    "\n",
    "flattened_data_trivia\n",
    "\n",
    "flattened_data_trivia.head()"
   ]
  },
  {
   "cell_type": "code",
   "execution_count": null,
   "id": "1759261d",
   "metadata": {},
   "outputs": [],
   "source": []
  },
  {
   "cell_type": "code",
   "execution_count": null,
   "id": "5511aa30",
   "metadata": {},
   "outputs": [],
   "source": []
  },
  {
   "cell_type": "markdown",
   "id": "5b7c8590",
   "metadata": {},
   "source": [
    "# API Nr. 3: Quotes (https://pprathameshmore.github.io/QuoteGarden/#get-quotes)"
   ]
  },
  {
   "cell_type": "code",
   "execution_count": 18,
   "id": "33bf0d9e",
   "metadata": {},
   "outputs": [],
   "source": [
    "# Request:"
   ]
  },
  {
   "cell_type": "code",
   "execution_count": 19,
   "id": "9011bcda",
   "metadata": {},
   "outputs": [
    {
     "name": "stdout",
     "output_type": "stream",
     "text": [
      "quotes: 200\n"
     ]
    }
   ],
   "source": [
    "quotes = requests.get(\"https://quote-garden.herokuapp.com/api/v3/quotes\")\n",
    "\n",
    "print(\"quotes:\", quotes.status_code)\n"
   ]
  },
  {
   "cell_type": "code",
   "execution_count": 20,
   "id": "48914a0a",
   "metadata": {},
   "outputs": [],
   "source": [
    "results3 = quotes.json()\n",
    "#results3"
   ]
  },
  {
   "cell_type": "code",
   "execution_count": 21,
   "id": "a0ac0665",
   "metadata": {},
   "outputs": [],
   "source": [
    "# Json in Dataframe:"
   ]
  },
  {
   "cell_type": "code",
   "execution_count": null,
   "id": "00cbe010",
   "metadata": {},
   "outputs": [],
   "source": [
    "\n"
   ]
  },
  {
   "cell_type": "code",
   "execution_count": 32,
   "id": "b23a6ab2",
   "metadata": {},
   "outputs": [
    {
     "ename": "ValueError",
     "evalue": "Mixing dicts with non-Series may lead to ambiguous ordering.",
     "output_type": "error",
     "traceback": [
      "\u001b[1;31m---------------------------------------------------------------------------\u001b[0m",
      "\u001b[1;31mValueError\u001b[0m                                Traceback (most recent call last)",
      "Input \u001b[1;32mIn [32]\u001b[0m, in \u001b[0;36m<cell line: 3>\u001b[1;34m()\u001b[0m\n\u001b[0;32m      1\u001b[0m \u001b[38;5;66;03m#pd.set_option(\"display.max_rows\", 0)\u001b[39;00m\n\u001b[1;32m----> 3\u001b[0m data3 \u001b[38;5;241m=\u001b[39m \u001b[43mpd\u001b[49m\u001b[38;5;241;43m.\u001b[39;49m\u001b[43mDataFrame\u001b[49m\u001b[43m(\u001b[49m\u001b[43mresults3\u001b[49m\u001b[43m)\u001b[49m\n\u001b[0;32m      4\u001b[0m data3\u001b[38;5;241m.\u001b[39mhead(\u001b[38;5;241m10\u001b[39m)\n",
      "File \u001b[1;32mC:\\ProgramData\\Anaconda3\\lib\\site-packages\\pandas\\core\\frame.py:636\u001b[0m, in \u001b[0;36mDataFrame.__init__\u001b[1;34m(self, data, index, columns, dtype, copy)\u001b[0m\n\u001b[0;32m    630\u001b[0m     mgr \u001b[38;5;241m=\u001b[39m \u001b[38;5;28mself\u001b[39m\u001b[38;5;241m.\u001b[39m_init_mgr(\n\u001b[0;32m    631\u001b[0m         data, axes\u001b[38;5;241m=\u001b[39m{\u001b[38;5;124m\"\u001b[39m\u001b[38;5;124mindex\u001b[39m\u001b[38;5;124m\"\u001b[39m: index, \u001b[38;5;124m\"\u001b[39m\u001b[38;5;124mcolumns\u001b[39m\u001b[38;5;124m\"\u001b[39m: columns}, dtype\u001b[38;5;241m=\u001b[39mdtype, copy\u001b[38;5;241m=\u001b[39mcopy\n\u001b[0;32m    632\u001b[0m     )\n\u001b[0;32m    634\u001b[0m \u001b[38;5;28;01melif\u001b[39;00m \u001b[38;5;28misinstance\u001b[39m(data, \u001b[38;5;28mdict\u001b[39m):\n\u001b[0;32m    635\u001b[0m     \u001b[38;5;66;03m# GH#38939 de facto copy defaults to False only in non-dict cases\u001b[39;00m\n\u001b[1;32m--> 636\u001b[0m     mgr \u001b[38;5;241m=\u001b[39m \u001b[43mdict_to_mgr\u001b[49m\u001b[43m(\u001b[49m\u001b[43mdata\u001b[49m\u001b[43m,\u001b[49m\u001b[43m \u001b[49m\u001b[43mindex\u001b[49m\u001b[43m,\u001b[49m\u001b[43m \u001b[49m\u001b[43mcolumns\u001b[49m\u001b[43m,\u001b[49m\u001b[43m \u001b[49m\u001b[43mdtype\u001b[49m\u001b[38;5;241;43m=\u001b[39;49m\u001b[43mdtype\u001b[49m\u001b[43m,\u001b[49m\u001b[43m \u001b[49m\u001b[43mcopy\u001b[49m\u001b[38;5;241;43m=\u001b[39;49m\u001b[43mcopy\u001b[49m\u001b[43m,\u001b[49m\u001b[43m \u001b[49m\u001b[43mtyp\u001b[49m\u001b[38;5;241;43m=\u001b[39;49m\u001b[43mmanager\u001b[49m\u001b[43m)\u001b[49m\n\u001b[0;32m    637\u001b[0m \u001b[38;5;28;01melif\u001b[39;00m \u001b[38;5;28misinstance\u001b[39m(data, ma\u001b[38;5;241m.\u001b[39mMaskedArray):\n\u001b[0;32m    638\u001b[0m     \u001b[38;5;28;01mimport\u001b[39;00m \u001b[38;5;21;01mnumpy\u001b[39;00m\u001b[38;5;21;01m.\u001b[39;00m\u001b[38;5;21;01mma\u001b[39;00m\u001b[38;5;21;01m.\u001b[39;00m\u001b[38;5;21;01mmrecords\u001b[39;00m \u001b[38;5;28;01mas\u001b[39;00m \u001b[38;5;21;01mmrecords\u001b[39;00m\n",
      "File \u001b[1;32mC:\\ProgramData\\Anaconda3\\lib\\site-packages\\pandas\\core\\internals\\construction.py:502\u001b[0m, in \u001b[0;36mdict_to_mgr\u001b[1;34m(data, index, columns, dtype, typ, copy)\u001b[0m\n\u001b[0;32m    494\u001b[0m     arrays \u001b[38;5;241m=\u001b[39m [\n\u001b[0;32m    495\u001b[0m         x\n\u001b[0;32m    496\u001b[0m         \u001b[38;5;28;01mif\u001b[39;00m \u001b[38;5;129;01mnot\u001b[39;00m \u001b[38;5;28mhasattr\u001b[39m(x, \u001b[38;5;124m\"\u001b[39m\u001b[38;5;124mdtype\u001b[39m\u001b[38;5;124m\"\u001b[39m) \u001b[38;5;129;01mor\u001b[39;00m \u001b[38;5;129;01mnot\u001b[39;00m \u001b[38;5;28misinstance\u001b[39m(x\u001b[38;5;241m.\u001b[39mdtype, ExtensionDtype)\n\u001b[0;32m    497\u001b[0m         \u001b[38;5;28;01melse\u001b[39;00m x\u001b[38;5;241m.\u001b[39mcopy()\n\u001b[0;32m    498\u001b[0m         \u001b[38;5;28;01mfor\u001b[39;00m x \u001b[38;5;129;01min\u001b[39;00m arrays\n\u001b[0;32m    499\u001b[0m     ]\n\u001b[0;32m    500\u001b[0m     \u001b[38;5;66;03m# TODO: can we get rid of the dt64tz special case above?\u001b[39;00m\n\u001b[1;32m--> 502\u001b[0m \u001b[38;5;28;01mreturn\u001b[39;00m \u001b[43marrays_to_mgr\u001b[49m\u001b[43m(\u001b[49m\u001b[43marrays\u001b[49m\u001b[43m,\u001b[49m\u001b[43m \u001b[49m\u001b[43mcolumns\u001b[49m\u001b[43m,\u001b[49m\u001b[43m \u001b[49m\u001b[43mindex\u001b[49m\u001b[43m,\u001b[49m\u001b[43m \u001b[49m\u001b[43mdtype\u001b[49m\u001b[38;5;241;43m=\u001b[39;49m\u001b[43mdtype\u001b[49m\u001b[43m,\u001b[49m\u001b[43m \u001b[49m\u001b[43mtyp\u001b[49m\u001b[38;5;241;43m=\u001b[39;49m\u001b[43mtyp\u001b[49m\u001b[43m,\u001b[49m\u001b[43m \u001b[49m\u001b[43mconsolidate\u001b[49m\u001b[38;5;241;43m=\u001b[39;49m\u001b[43mcopy\u001b[49m\u001b[43m)\u001b[49m\n",
      "File \u001b[1;32mC:\\ProgramData\\Anaconda3\\lib\\site-packages\\pandas\\core\\internals\\construction.py:120\u001b[0m, in \u001b[0;36marrays_to_mgr\u001b[1;34m(arrays, columns, index, dtype, verify_integrity, typ, consolidate)\u001b[0m\n\u001b[0;32m    117\u001b[0m \u001b[38;5;28;01mif\u001b[39;00m verify_integrity:\n\u001b[0;32m    118\u001b[0m     \u001b[38;5;66;03m# figure out the index, if necessary\u001b[39;00m\n\u001b[0;32m    119\u001b[0m     \u001b[38;5;28;01mif\u001b[39;00m index \u001b[38;5;129;01mis\u001b[39;00m \u001b[38;5;28;01mNone\u001b[39;00m:\n\u001b[1;32m--> 120\u001b[0m         index \u001b[38;5;241m=\u001b[39m \u001b[43m_extract_index\u001b[49m\u001b[43m(\u001b[49m\u001b[43marrays\u001b[49m\u001b[43m)\u001b[49m\n\u001b[0;32m    121\u001b[0m     \u001b[38;5;28;01melse\u001b[39;00m:\n\u001b[0;32m    122\u001b[0m         index \u001b[38;5;241m=\u001b[39m ensure_index(index)\n",
      "File \u001b[1;32mC:\\ProgramData\\Anaconda3\\lib\\site-packages\\pandas\\core\\internals\\construction.py:677\u001b[0m, in \u001b[0;36m_extract_index\u001b[1;34m(data)\u001b[0m\n\u001b[0;32m    674\u001b[0m     \u001b[38;5;28;01mraise\u001b[39;00m \u001b[38;5;167;01mValueError\u001b[39;00m(\u001b[38;5;124m\"\u001b[39m\u001b[38;5;124mAll arrays must be of the same length\u001b[39m\u001b[38;5;124m\"\u001b[39m)\n\u001b[0;32m    676\u001b[0m \u001b[38;5;28;01mif\u001b[39;00m have_dicts:\n\u001b[1;32m--> 677\u001b[0m     \u001b[38;5;28;01mraise\u001b[39;00m \u001b[38;5;167;01mValueError\u001b[39;00m(\n\u001b[0;32m    678\u001b[0m         \u001b[38;5;124m\"\u001b[39m\u001b[38;5;124mMixing dicts with non-Series may lead to ambiguous ordering.\u001b[39m\u001b[38;5;124m\"\u001b[39m\n\u001b[0;32m    679\u001b[0m     )\n\u001b[0;32m    681\u001b[0m \u001b[38;5;28;01mif\u001b[39;00m have_series:\n\u001b[0;32m    682\u001b[0m     \u001b[38;5;28;01massert\u001b[39;00m index \u001b[38;5;129;01mis\u001b[39;00m \u001b[38;5;129;01mnot\u001b[39;00m \u001b[38;5;28;01mNone\u001b[39;00m  \u001b[38;5;66;03m# for mypy\u001b[39;00m\n",
      "\u001b[1;31mValueError\u001b[0m: Mixing dicts with non-Series may lead to ambiguous ordering."
     ]
    }
   ],
   "source": [
    "pd.set_option(\"display.max_rows\", 0)\n",
    "\n",
    "data3 = pd.DataFrame(results3)\n",
    "data3.head(10)"
   ]
  },
  {
   "cell_type": "code",
   "execution_count": null,
   "id": "eb1e745c",
   "metadata": {},
   "outputs": [],
   "source": [
    "# Data has to get flattened:"
   ]
  },
  {
   "cell_type": "code",
   "execution_count": 26,
   "id": "9d952f86",
   "metadata": {},
   "outputs": [
    {
     "data": {
      "text/html": [
       "<div>\n",
       "<style scoped>\n",
       "    .dataframe tbody tr th:only-of-type {\n",
       "        vertical-align: middle;\n",
       "    }\n",
       "\n",
       "    .dataframe tbody tr th {\n",
       "        vertical-align: top;\n",
       "    }\n",
       "\n",
       "    .dataframe thead th {\n",
       "        text-align: right;\n",
       "    }\n",
       "</style>\n",
       "<table border=\"1\" class=\"dataframe\">\n",
       "  <thead>\n",
       "    <tr style=\"text-align: right;\">\n",
       "      <th></th>\n",
       "      <th>statusCode</th>\n",
       "      <th>message</th>\n",
       "      <th>totalQuotes</th>\n",
       "      <th>data</th>\n",
       "      <th>pagination.currentPage</th>\n",
       "      <th>pagination.nextPage</th>\n",
       "      <th>pagination.totalPages</th>\n",
       "    </tr>\n",
       "  </thead>\n",
       "  <tbody>\n",
       "    <tr>\n",
       "      <th>0</th>\n",
       "      <td>200</td>\n",
       "      <td>Quotes</td>\n",
       "      <td>72672</td>\n",
       "      <td>[{'_id': '5eb17aadb69dc744b4e70d2e', 'quoteTex...</td>\n",
       "      <td>1</td>\n",
       "      <td>2</td>\n",
       "      <td>7268</td>\n",
       "    </tr>\n",
       "  </tbody>\n",
       "</table>\n",
       "</div>"
      ],
      "text/plain": [
       "   statusCode message  totalQuotes  \\\n",
       "0         200  Quotes        72672   \n",
       "\n",
       "                                                data  pagination.currentPage  \\\n",
       "0  [{'_id': '5eb17aadb69dc744b4e70d2e', 'quoteTex...                       1   \n",
       "\n",
       "   pagination.nextPage  pagination.totalPages  \n",
       "0                    2                   7268  "
      ]
     },
     "execution_count": 26,
     "metadata": {},
     "output_type": "execute_result"
    }
   ],
   "source": [
    "quotes = results3\n",
    "flattened_data_quotes = pd.json_normalize(quotes)\n",
    "\n",
    "flattened_data_quotes\n",
    "\n",
    "flattened_data_quotes.head()"
   ]
  },
  {
   "cell_type": "code",
   "execution_count": null,
   "id": "fc9bd659",
   "metadata": {},
   "outputs": [],
   "source": [
    "# the flattening does not work, so I try to get one level deeper into the column 'data':"
   ]
  },
  {
   "cell_type": "code",
   "execution_count": 25,
   "id": "5b3ae980",
   "metadata": {},
   "outputs": [
    {
     "data": {
      "text/html": [
       "<div>\n",
       "<style scoped>\n",
       "    .dataframe tbody tr th:only-of-type {\n",
       "        vertical-align: middle;\n",
       "    }\n",
       "\n",
       "    .dataframe tbody tr th {\n",
       "        vertical-align: top;\n",
       "    }\n",
       "\n",
       "    .dataframe thead th {\n",
       "        text-align: right;\n",
       "    }\n",
       "</style>\n",
       "<table border=\"1\" class=\"dataframe\">\n",
       "  <thead>\n",
       "    <tr style=\"text-align: right;\">\n",
       "      <th></th>\n",
       "      <th>_id</th>\n",
       "      <th>quoteText</th>\n",
       "      <th>quoteAuthor</th>\n",
       "      <th>quoteGenre</th>\n",
       "      <th>__v</th>\n",
       "    </tr>\n",
       "  </thead>\n",
       "  <tbody>\n",
       "    <tr>\n",
       "      <th>0</th>\n",
       "      <td>5eb17aadb69dc744b4e70d2e</td>\n",
       "      <td>All diseases run into one, old age.</td>\n",
       "      <td>Ralph Waldo Emerson</td>\n",
       "      <td>age</td>\n",
       "      <td>0</td>\n",
       "    </tr>\n",
       "    <tr>\n",
       "      <th>1</th>\n",
       "      <td>5eb17aadb69dc744b4e70d36</td>\n",
       "      <td>Alas, after a certain age every man is respons...</td>\n",
       "      <td>Albert Camus</td>\n",
       "      <td>age</td>\n",
       "      <td>0</td>\n",
       "    </tr>\n",
       "    <tr>\n",
       "      <th>2</th>\n",
       "      <td>5eb17aadb69dc744b4e70d44</td>\n",
       "      <td>When grace is joined with wrinkles, it is ador...</td>\n",
       "      <td>Victor Hugo</td>\n",
       "      <td>age</td>\n",
       "      <td>0</td>\n",
       "    </tr>\n",
       "    <tr>\n",
       "      <th>3</th>\n",
       "      <td>5eb17aadb69dc744b4e70d48</td>\n",
       "      <td>Age is not a particularly interesting subject....</td>\n",
       "      <td>Don Marquis</td>\n",
       "      <td>age</td>\n",
       "      <td>0</td>\n",
       "    </tr>\n",
       "    <tr>\n",
       "      <th>4</th>\n",
       "      <td>5eb17aadb69dc744b4e70d5e</td>\n",
       "      <td>My notion of a wife at 40 is that a man should...</td>\n",
       "      <td>Warren Beatty</td>\n",
       "      <td>age</td>\n",
       "      <td>0</td>\n",
       "    </tr>\n",
       "  </tbody>\n",
       "</table>\n",
       "</div>"
      ],
      "text/plain": [
       "                        _id  \\\n",
       "0  5eb17aadb69dc744b4e70d2e   \n",
       "1  5eb17aadb69dc744b4e70d36   \n",
       "2  5eb17aadb69dc744b4e70d44   \n",
       "3  5eb17aadb69dc744b4e70d48   \n",
       "4  5eb17aadb69dc744b4e70d5e   \n",
       "\n",
       "                                           quoteText          quoteAuthor  \\\n",
       "0                All diseases run into one, old age.  Ralph Waldo Emerson   \n",
       "1  Alas, after a certain age every man is respons...         Albert Camus   \n",
       "2  When grace is joined with wrinkles, it is ador...          Victor Hugo   \n",
       "3  Age is not a particularly interesting subject....          Don Marquis   \n",
       "4  My notion of a wife at 40 is that a man should...        Warren Beatty   \n",
       "\n",
       "  quoteGenre  __v  \n",
       "0        age    0  \n",
       "1        age    0  \n",
       "2        age    0  \n",
       "3        age    0  \n",
       "4        age    0  "
      ]
     },
     "execution_count": 25,
     "metadata": {},
     "output_type": "execute_result"
    }
   ],
   "source": [
    "quotes = results3['data']\n",
    "flattened_data_quotes = pd.json_normalize(quotes)\n",
    "\n",
    "flattened_data_quotes\n",
    "\n",
    "flattened_data_quotes.head()"
   ]
  },
  {
   "cell_type": "code",
   "execution_count": null,
   "id": "a7bfebc4",
   "metadata": {},
   "outputs": [],
   "source": []
  }
 ],
 "metadata": {
  "kernelspec": {
   "display_name": "Python 3 (ipykernel)",
   "language": "python",
   "name": "python3"
  },
  "language_info": {
   "codemirror_mode": {
    "name": "ipython",
    "version": 3
   },
   "file_extension": ".py",
   "mimetype": "text/x-python",
   "name": "python",
   "nbconvert_exporter": "python",
   "pygments_lexer": "ipython3",
   "version": "3.9.12"
  }
 },
 "nbformat": 4,
 "nbformat_minor": 5
}
